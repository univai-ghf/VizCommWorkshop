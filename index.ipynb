{
  "nbformat": 4,
  "nbformat_minor": 0,
  "metadata": {
    "colab": {
      "name": "VisualizationForCommunicationWorkshop_index.ipynb",
      "provenance": [],
      "collapsed_sections": []
    },
    "kernelspec": {
      "name": "python3",
      "display_name": "Python 3"
    },
    "language_info": {
      "name": "python"
    }
  },
  "cells": [
    {
      "cell_type": "markdown",
      "source": [
        "# **Visualization For Communication Workshop**\n",
        "\n",
        "Not long ago, the ability to create smart data visualizations (or dataviz) was a nice-to-have skill for design- and data-minded developers, data scientists, and managers. But now it’s a must-have skill for all stakeholders in a data driven business process, because it’s often the only way to make sense and communicate the work that is done.\n",
        "\n",
        "Whether you are pitching a new idea, persuading others to take action based on a model, building a strategy, or making a decision, data and models are key. But the amount of information available today is staggering. Data is being recorded with such overwhelming velocity, and in such volume, that some level of abstraction is crucial. Both modeling and visualization (and visualization for modeling) provide this service. Furthermore, it is not just abstraction we seek, but to find the story in the data, such that the story may influence our actions.\n",
        "\n",
        "Through this workshop we will learn how to tell data stories with visualizations and we will focus on few key data viz aspects that will help us communicate more precisely by pinpointing the most relevant information.<br><br>\n",
        "\n",
        "Workshop Notebook 1: [![Open Workshop In Colab](https://colab.research.google.com/assets/colab-badge.svg)](https://colab.research.google.com/github/univai-ghf/VizCommWorkshop/blob/main/improving_figures.ipynb) &nbsp;&nbsp;&nbsp;&nbsp; [<img src=\"https://github.githubassets.com/images/modules/logos_page/GitHub-Logo.png\" alt=\"Open In GitHub\" width=\"70\"/>](https://github.com/univai-ghf/VizCommWorkshop/blob/main/improving_figures.ipynb)<br>\n",
        "\n",
        "Workshop Notebook 2: [![Open Workshop In Colab](https://colab.research.google.com/assets/colab-badge.svg)](https://colab.research.google.com/github/univai-ghf/VizCommWorkshop/blob/main/making_the_covid_viz.ipynb) &nbsp;&nbsp;&nbsp;&nbsp; [<img src=\"https://github.githubassets.com/images/modules/logos_page/GitHub-Logo.png\" alt=\"Open In GitHub\" width=\"70\"/>](https://github.com/univai-ghf/VizCommWorkshop/blob/main/making_the_covid_viz.ipynb)<br><br>\n",
        "\n",
        "Happy Learning!!<br>"
      ],
      "metadata": {
        "id": "5EDpSt7JNJ-1"
      }
    },
    {
      "cell_type": "code",
      "source": [
        ""
      ],
      "metadata": {
        "id": "ClDyVIH-hgHh"
      },
      "execution_count": null,
      "outputs": []
    }
  ]
}